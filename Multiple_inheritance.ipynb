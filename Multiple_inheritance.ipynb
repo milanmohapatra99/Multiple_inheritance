{
 "cells": [
  {
   "cell_type": "code",
   "execution_count": 5,
   "id": "ea101bb2",
   "metadata": {},
   "outputs": [
    {
     "name": "stdout",
     "output_type": "stream",
     "text": [
      "A\n",
      "120\n"
     ]
    }
   ],
   "source": [
    "class Student:\n",
    "    college = \"IPSAR\"\n",
    "    eroll = 120\n",
    "class Degree:\n",
    "    college = \"A.S.D\"\n",
    "    grade = \"A\"\n",
    "class Teacher(Student,Degree):\n",
    "    name = \"Peter\"\n",
    "p = Teacher() \n",
    "print(p.grade)\n",
    "print(p.eroll)"
   ]
  },
  {
   "cell_type": "code",
   "execution_count": 19,
   "id": "dca30ef9",
   "metadata": {},
   "outputs": [
    {
     "name": "stdout",
     "output_type": "stream",
     "text": [
      "1\n",
      "Skype\n"
     ]
    }
   ],
   "source": [
    "class Employee:\n",
    "    company = \"Skype\"\n",
    "    ecode = 110\n",
    "class Freelancer:\n",
    "    company = \"Fiver\"\n",
    "    level = 0\n",
    "    \n",
    "    def upgradeLevel(self):\n",
    "        self.level = self.level + 1\n",
    "class Programmer(Employee,Freelancer):\n",
    "    name = \"Satya\"\n",
    "p = Programmer()\n",
    "p.upgradeLevel()\n",
    "print(p.level)\n",
    "print(p.company)\n"
   ]
  },
  {
   "cell_type": "code",
   "execution_count": 17,
   "id": "58327cd7",
   "metadata": {},
   "outputs": [
    {
     "name": "stdout",
     "output_type": "stream",
     "text": [
      "Enter Your Number10\n",
      "10\n",
      "9\n",
      "8\n",
      "7\n",
      "6\n",
      "5\n",
      "4\n",
      "3\n",
      "2\n"
     ]
    }
   ],
   "source": [
    "n=int(input(\"Enter Your Number\"))\n",
    "for i in range(n, 1, -1): \n",
    "    print(i) "
   ]
  },
  {
   "cell_type": "code",
   "execution_count": null,
   "id": "972d2ba4",
   "metadata": {},
   "outputs": [],
   "source": []
  }
 ],
 "metadata": {
  "kernelspec": {
   "display_name": "Python 3 (ipykernel)",
   "language": "python",
   "name": "python3"
  },
  "language_info": {
   "codemirror_mode": {
    "name": "ipython",
    "version": 3
   },
   "file_extension": ".py",
   "mimetype": "text/x-python",
   "name": "python",
   "nbconvert_exporter": "python",
   "pygments_lexer": "ipython3",
   "version": "3.9.7"
  }
 },
 "nbformat": 4,
 "nbformat_minor": 5
}
